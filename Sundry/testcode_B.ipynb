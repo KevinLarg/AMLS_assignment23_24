{
 "cells": [
  {
   "cell_type": "code",
   "execution_count": 2,
   "metadata": {},
   "outputs": [
    {
     "name": "stdout",
     "output_type": "stream",
     "text": [
      "89996\n",
      "7180\n"
     ]
    }
   ],
   "source": [
    "import numpy as np\n",
    "data = np.load('../Dataset/pathmnist.npz')\n",
    "data_train = data['train_images']\n",
    "data_test = data['test_images']\n",
    "data_val = data['val_images']\n",
    "label_train = data['train_labels']\n",
    "label_test = data['test_labels']\n",
    "label_val = data['val_labels']\n",
    "print(len(data_train))\n",
    "print(len(data_test))"
   ]
  },
  {
   "cell_type": "code",
   "execution_count": 5,
   "metadata": {},
   "outputs": [],
   "source": [
    "from sklearn.preprocessing import StandardScaler\n",
    "from sklearn.svm import SVC\n",
    "from sklearn.metrics import accuracy_score, classification_report\n",
    "import matplotlib.pyplot as plt\n",
    "\n",
    "\n",
    "# Flatten the images and normalize pixel values\n",
    "\n",
    "n_samples = len(data_train)\n",
    "data_temp = data_train.reshape((n_samples, -1))\n",
    "data_tr = StandardScaler().fit_transform(data_temp)\n",
    "\n",
    "n_samples = len(data_test)\n",
    "data_temp = data_test.reshape((n_samples, -1))\n",
    "data_te = StandardScaler().fit_transform(data_temp)\n",
    "n_samples = len(data_val)\n",
    "data_temp = data_val.reshape((n_samples, -1))\n",
    "data_va = StandardScaler().fit_transform(data_temp)"
   ]
  },
  {
   "cell_type": "code",
   "execution_count": 1,
   "metadata": {},
   "outputs": [],
   "source": [
    "# Tried kernals and regularization parameters\n",
    "kernels = {'rbf'}\n",
    "C = {1}\n",
    "# Initialize an empty dictionary to store results\n",
    "accuracy_results = {'kernel': [], 'C': [], 'accu': []}"
   ]
  },
  {
   "cell_type": "code",
   "execution_count": 6,
   "metadata": {},
   "outputs": [
    {
     "name": "stderr",
     "output_type": "stream",
     "text": [
      "c:\\Users\\zhujy\\.conda\\envs\\ALMS\\lib\\site-packages\\sklearn\\utils\\validation.py:1183: DataConversionWarning: A column-vector y was passed when a 1d array was expected. Please change the shape of y to (n_samples, ), for example using ravel().\n",
      "  y = column_or_1d(y, warn=True)\n"
     ]
    },
    {
     "name": "stdout",
     "output_type": "stream",
     "text": [
      "Report for SVM with rbf kernal and regularization parameter = 1:\n",
      "              precision    recall  f1-score   support\n",
      "\n",
      "           0       0.94      0.91      0.93      1338\n",
      "           1       0.89      1.00      0.94       847\n",
      "           2       0.36      0.65      0.46       339\n",
      "           3       0.58      0.29      0.38       634\n",
      "           4       0.94      0.66      0.77      1035\n",
      "           5       0.45      0.48      0.47       592\n",
      "           6       0.32      0.18      0.23       741\n",
      "           7       0.68      0.40      0.50       421\n",
      "           8       0.55      0.88      0.68      1233\n",
      "\n",
      "    accuracy                           0.67      7180\n",
      "   macro avg       0.63      0.61      0.60      7180\n",
      "weighted avg       0.69      0.67      0.66      7180\n",
      "\n"
     ]
    }
   ],
   "source": [
    "# trying different svm kernals with different regularization parameters\n",
    "for i in kernels:\n",
    "    for c in C:\n",
    "        # Create an SVM classifier\n",
    "        clf_svm = SVC(kernel= i , C = c)\n",
    "\n",
    "        # Train the classifier\n",
    "        clf_svm.fit(data_tr, label_train)\n",
    "\n",
    "        # Make predictions on the test set\n",
    "        y_pred = clf_svm.predict(data_te)\n",
    "\n",
    "        # Evaluate the performance\n",
    "        accu_svm = accuracy_score(label_test, y_pred)\n",
    "\n",
    "        # storing performance values for plotting\n",
    "\n",
    "        accuracy_results['kernel'].append(i)\n",
    "        accuracy_results['C'].append(c)\n",
    "        accuracy_results['accu'].append(accu_svm)\n",
    "\n",
    "        # Display classification report\n",
    "        print(f'Report for SVM with {i} kernal and regularization parameter = {c}:')\n",
    "        print(classification_report(label_test, y_pred))"
   ]
  },
  {
   "cell_type": "code",
   "execution_count": 13,
   "metadata": {},
   "outputs": [],
   "source": [
    "# Apply random sample and mini-batch for training, as the training data set is massive\n",
    "\n",
    "# Parameters\n",
    "num_batch = 200\n",
    "batch_size = 10000\n",
    "batch_index = []\n",
    "\n",
    "import warnings\n",
    "\n",
    "# To ignore all warnings\n",
    "warnings.filterwarnings(\"ignore\")"
   ]
  },
  {
   "cell_type": "code",
   "execution_count": 50,
   "metadata": {},
   "outputs": [],
   "source": [
    "# Perform mini-batch updates\n",
    "if len(batch_index) != 0:\n",
    "    print(f'{len(batch_index)} batches already exists, please check')\n",
    "else:\n",
    "    for i in range(num_batch):\n",
    "        # Randomly sample a mini-batch from the training set\n",
    "        batch_index.append(np.random.choice(len(data_tr), size=batch_size, replace=False))\n"
   ]
  },
  {
   "cell_type": "code",
   "execution_count": 51,
   "metadata": {},
   "outputs": [
    {
     "name": "stdout",
     "output_type": "stream",
     "text": [
      "Random Forest Accuracy: 0.5811977715877438\n"
     ]
    }
   ],
   "source": [
    "from sklearn.ensemble import RandomForestClassifier\n",
    "\n",
    "# Create an empty Random Forest classifier\n",
    "rf_classifier = RandomForestClassifier(n_estimators = 100, random_state=42, warm_start= True)\n",
    "\n",
    "# Perform mini-batch updates\n",
    "for i in range(num_batch):\n",
    "    # use the randomly sampled indices for mini-batches\n",
    "    data_batch = [data_tr[j] for j in batch_index[i]]\n",
    "    label_batch = [label_train[j] for j in batch_index[i]]\n",
    "\n",
    "    # Train the Random Forest classifier on the current mini-batch\n",
    "    rf_classifier.fit(data_batch, label_batch)\n",
    "\n",
    "# Make predictions on the test set\n",
    "rf_predictions = rf_classifier.predict(data_te)\n",
    "\n",
    "# Evaluate accuracy on the test set\n",
    "accuracy = accuracy_score(label_test, rf_predictions)\n",
    "print(f\"Random Forest Accuracy: {accuracy}\")\n"
   ]
  },
  {
   "cell_type": "code",
   "execution_count": 33,
   "metadata": {},
   "outputs": [
    {
     "name": "stderr",
     "output_type": "stream",
     "text": [
      "c:\\Users\\zhujy\\.conda\\envs\\ALMS\\lib\\site-packages\\sklearn\\base.py:1152: DataConversionWarning: A column-vector y was passed when a 1d array was expected. Please change the shape of y to (n_samples,), for example using ravel().\n",
      "  return fit_method(estimator, *args, **kwargs)\n"
     ]
    },
    {
     "name": "stdout",
     "output_type": "stream",
     "text": [
      "Random Forest Accuracy: 0.5139275766016713\n"
     ]
    }
   ],
   "source": [
    "from sklearn.ensemble import RandomForestClassifier\n",
    "\n",
    "# Create an empty Random Forest classifier\n",
    "rf_classifier_2 = RandomForestClassifier(n_estimators = 100, random_state=42)\n",
    "rf_classifier_2.fit(data_tr, label_train)\n"
   ]
  },
  {
   "cell_type": "code",
   "execution_count": 34,
   "metadata": {},
   "outputs": [
    {
     "name": "stdout",
     "output_type": "stream",
     "text": [
      "Random Forest Accuracy: 0.6497214484679665\n"
     ]
    }
   ],
   "source": [
    "\n",
    "# Make predictions on the test set\n",
    "rf_predictions2 = rf_classifier_2.predict(data_te)\n",
    "\n",
    "# Evaluate accuracy on the test set\n",
    "accuracy = accuracy_score(label_test, rf_predictions2)\n",
    "print(f\"Random Forest Accuracy: {accuracy}\")\n"
   ]
  },
  {
   "cell_type": "code",
   "execution_count": 3,
   "metadata": {},
   "outputs": [],
   "source": [
    "from tensorflow.keras.utils import to_categorical\n",
    "\n",
    "# Convert integer labels to one-hot encoded format\n",
    "label_train_one_hot = to_categorical(label_train, num_classes=9)\n",
    "label_valid_one_hot = to_categorical(label_val, num_classes=9)\n",
    "label_test_one_hot = to_categorical(label_test, num_classes=9)\n"
   ]
  },
  {
   "cell_type": "code",
   "execution_count": 23,
   "metadata": {},
   "outputs": [],
   "source": [
    "import tensorflow as tf\n",
    "import tensorflow.keras as Keras\n",
    "from tensorflow.keras.applications import ResNet50\n",
    "from tensorflow.keras.layers import Dense, GlobalAveragePooling2D\n",
    "from tensorflow.keras.models import Model\n",
    "from tensorflow.keras.optimizers import Adam\n",
    "from tensorflow.keras.preprocessing.image import ImageDataGenerator\n",
    "from tensorflow.keras.callbacks import EarlyStopping\n",
    "\n",
    "# # Data augmentation for the training set\n",
    "# train_datagen = ImageDataGenerator(\n",
    "#     rescale=1./255,\n",
    "#     shear_range=0.2,\n",
    "#     zoom_range=0.2,\n",
    "#     horizontal_flip=True\n",
    "# )\n",
    "\n",
    "# # No augmentation for the validation set\n",
    "# valid_datagen = ImageDataGenerator(rescale=1./255)\n",
    "\n",
    "# Pad all images to the maximum dimensions\n",
    "data_train_padded = np.array([np.pad(img, ((2, 2), (2, 2), (0, 0)), mode='constant') for img in data_train])\n",
    "data_valid_padded = np.array([np.pad(img, ((2, 2), (2, 2), (0, 0)), mode='constant') for img in data_val])\n",
    "data_test_padded = np.array([np.pad(img, ((2, 2), (2, 2), (0, 0)), mode='constant') for img in data_test])\n",
    "\n",
    "data_train_res = Keras.applications.resnet50.preprocess_input(data_train)\n",
    "data_valid_res = Keras.applications.resnet50.preprocess_input(data_val)\n",
    "data_test_res = Keras.applications.resnet50.preprocess_input(data_test)\n",
    "\n",
    "data_train_respad = Keras.applications.resnet50.preprocess_input(data_train_padded)\n",
    "data_valid_respad = Keras.applications.resnet50.preprocess_input(data_valid_padded)\n",
    "data_test_respad = Keras.applications.resnet50.preprocess_input(data_test_padded)"
   ]
  },
  {
   "cell_type": "code",
   "execution_count": 8,
   "metadata": {},
   "outputs": [
    {
     "name": "stdout",
     "output_type": "stream",
     "text": [
      "WARNING:tensorflow:From c:\\Users\\zhujy\\.conda\\envs\\ALMS\\lib\\site-packages\\keras\\src\\optimizers\\__init__.py:309: The name tf.train.Optimizer is deprecated. Please use tf.compat.v1.train.Optimizer instead.\n",
      "\n"
     ]
    }
   ],
   "source": [
    "# Recommended resnet inputsize is (224,224)\n",
    "res_size = (224,224)\n",
    "input_t = Keras.Input(shape=(28, 28, 3))\n",
    "\n",
    "# Load ResNet-50 pre-trained on ImageNet\n",
    "resnet_model = Keras.applications.ResNet50(include_top=False,\n",
    "                                    weights=\"imagenet\"\n",
    "                                    )\n",
    "\n",
    "# Freeze the convolutional layers\n",
    "for layer in resnet_model.layers:\n",
    "    layer.trainable = False\n",
    "\n",
    "# Add classification head\n",
    "model_B = Keras.models.Sequential()\n",
    "model_B.add(Keras.layers.Lambda(lambda image: tf.image.resize(image, res_size))) \n",
    "model_B.add(resnet_model)\n",
    "model_B.add(Keras.layers.Flatten())\n",
    "model_B.add(Keras.layers.BatchNormalization())\n",
    "model_B.add(Keras.layers.Dense(256, activation='relu'))\n",
    "model_B.add(Keras.layers.Dropout(0.5))\n",
    "model_B.add(Keras.layers.BatchNormalization())\n",
    "model_B.add(Keras.layers.Dense(128, activation='relu'))\n",
    "model_B.add(Keras.layers.Dropout(0.5))\n",
    "model_B.add(Keras.layers.BatchNormalization())\n",
    "model_B.add(Keras.layers.Dense(64, activation='relu'))\n",
    "model_B.add(Keras.layers.Dropout(0.5))\n",
    "model_B.add(Keras.layers.BatchNormalization())\n",
    "model_B.add(Keras.layers.Dense(9, activation='softmax'))\n",
    "\n",
    "# Compile the model\n",
    "#model_B.compile(optimizer=Keras.optimizers.RMSprop(learning_rate=2e-5), loss='categorical_crossentropy', metrics=['accuracy'])\n",
    "model_B.compile(optimizer='Adam', loss='categorical_crossentropy', metrics=['accuracy'])\n",
    "# model_B.summary()\n",
    "\n",
    "# Define EarlyStopping callback, to perfent overfit\n",
    "early_stopping = EarlyStopping(monitor='val_accuracy', patience=5, restore_best_weights=True)\n"
   ]
  },
  {
   "cell_type": "code",
   "execution_count": 14,
   "metadata": {},
   "outputs": [
    {
     "name": "stdout",
     "output_type": "stream",
     "text": [
      "Epoch 1/200\n",
      "2813/2813 [==============================] - 1857s 659ms/step - loss: 0.7806 - accuracy: 0.7411 - val_loss: 0.3417 - val_accuracy: 0.8845\n",
      "Epoch 2/200\n",
      "2813/2813 [==============================] - 1825s 649ms/step - loss: 0.4985 - accuracy: 0.8402 - val_loss: 0.2989 - val_accuracy: 0.9018\n",
      "Epoch 3/200\n",
      "2813/2813 [==============================] - 1821s 648ms/step - loss: 0.4170 - accuracy: 0.8683 - val_loss: 0.2884 - val_accuracy: 0.9061\n",
      "Epoch 4/200\n",
      "2813/2813 [==============================] - 1821s 647ms/step - loss: 0.3669 - accuracy: 0.8851 - val_loss: 0.2704 - val_accuracy: 0.9107\n",
      "Epoch 5/200\n",
      "2813/2813 [==============================] - 1822s 648ms/step - loss: 0.3235 - accuracy: 0.8992 - val_loss: 0.2660 - val_accuracy: 0.9129\n",
      "Epoch 6/200\n",
      "2813/2813 [==============================] - 28167s 10s/step - loss: 0.2922 - accuracy: 0.9082 - val_loss: 0.2863 - val_accuracy: 0.9084\n",
      "Epoch 7/200\n",
      "2813/2813 [==============================] - 2274s 809ms/step - loss: 0.2612 - accuracy: 0.9173 - val_loss: 0.2796 - val_accuracy: 0.9123\n",
      "Epoch 8/200\n",
      "2813/2813 [==============================] - 2036s 724ms/step - loss: 0.2479 - accuracy: 0.9235 - val_loss: 0.3045 - val_accuracy: 0.9058\n",
      "Epoch 9/200\n",
      "2813/2813 [==============================] - 2217s 788ms/step - loss: 0.2293 - accuracy: 0.9288 - val_loss: 0.2779 - val_accuracy: 0.9141\n",
      "Epoch 10/200\n",
      "2813/2813 [==============================] - 2183s 776ms/step - loss: 0.2167 - accuracy: 0.9326 - val_loss: 0.2831 - val_accuracy: 0.9144\n",
      "Epoch 11/200\n",
      "2813/2813 [==============================] - 2021s 719ms/step - loss: 0.2077 - accuracy: 0.9359 - val_loss: 0.3245 - val_accuracy: 0.9081\n",
      "Epoch 12/200\n",
      "2813/2813 [==============================] - 1923s 684ms/step - loss: 0.1999 - accuracy: 0.9377 - val_loss: 0.4689 - val_accuracy: 0.9051\n",
      "Epoch 13/200\n",
      "2813/2813 [==============================] - 1813s 645ms/step - loss: 0.1959 - accuracy: 0.9398 - val_loss: 0.5164 - val_accuracy: 0.9083\n",
      "Epoch 14/200\n",
      "2813/2813 [==============================] - 1870s 665ms/step - loss: 0.1895 - accuracy: 0.9421 - val_loss: 0.3916 - val_accuracy: 0.9077\n",
      "Epoch 15/200\n",
      "2813/2813 [==============================] - 1778s 632ms/step - loss: 0.1750 - accuracy: 0.9463 - val_loss: 0.6265 - val_accuracy: 0.9052\n"
     ]
    }
   ],
   "source": [
    "result_B = model_B.fit(\n",
    "    data_train_res, label_train_one_hot,\n",
    "    epochs= num_batch,\n",
    "    batch_size = 32,\n",
    "    verbose=1,\n",
    "    validation_data=(data_valid_res,label_valid_one_hot),\n",
    "    callbacks = [early_stopping]\n",
    ")"
   ]
  },
  {
   "cell_type": "code",
   "execution_count": 15,
   "metadata": {},
   "outputs": [
    {
     "name": "stdout",
     "output_type": "stream",
     "text": [
      "225/225 [==============================] - 111s 491ms/step - loss: 0.4148 - accuracy: 0.8820\n",
      "test accuracy is now 0.8820334076881409\n"
     ]
    }
   ],
   "source": [
    "# Evaluate the model on the test data\n",
    "test_loss, test_accuracy = model_B.evaluate(data_test_res, label_test_one_hot)\n",
    "print(f\"test accuracy is now {test_accuracy}\")"
   ]
  },
  {
   "cell_type": "code",
   "execution_count": 16,
   "metadata": {},
   "outputs": [
    {
     "data": {
      "image/png": "[encoded data removed]",
      "text/plain": [
       "<Figure size 1200x400 with 2 Axes>"
      ]
     },
     "metadata": {},
     "output_type": "display_data"
    }
   ],
   "source": [
    "import matplotlib.pyplot as plt\n",
    "# Plotting accuracy\n",
    "plt.figure(figsize=(12, 4))\n",
    "\n",
    "plt.subplot(1, 2, 1)\n",
    "plt.plot(result_B.history['accuracy'], label='Training Accuracy')\n",
    "plt.plot(result_B.history['loss'], label='Training Loss')\n",
    "plt.xlabel('Epoch')\n",
    "plt.ylabel('Accuracy')\n",
    "plt.title('Training and Validation Accuracy')\n",
    "plt.legend()\n",
    "\n",
    "# Plotting loss\n",
    "plt.subplot(1, 2, 2)\n",
    "plt.plot(result_B.history['val_accuracy'], label='Validation Accuracy')\n",
    "plt.plot(result_B.history['val_loss'], label='Validation Loss')\n",
    "plt.xlabel('Epoch')\n",
    "plt.ylabel('Loss')\n",
    "plt.title('Training and Validation Loss')\n",
    "plt.legend()\n",
    "\n",
    "plt.tight_layout()\n",
    "plt.show()"
   ]
  },
  {
   "cell_type": "code",
   "execution_count": 22,
   "metadata": {},
   "outputs": [
    {
     "name": "stdout",
     "output_type": "stream",
     "text": [
      "Model: \"sequential\"\n",
      "_________________________________________________________________\n"
     ]
    },
    {
     "name": "stdout",
     "output_type": "stream",
     "text": [
      " Layer (type)                Output Shape              Param #   \n",
      "=================================================================\n",
      " lambda (Lambda)             (None, 224, 224, 3)       0         \n",
      "                                                                 \n",
      " resnet50 (Functional)       (None, None, None, 2048   23587712  \n",
      "                             )                                   \n",
      "                                                                 \n",
      " flatten (Flatten)           (None, 100352)            0         \n",
      "                                                                 \n",
      " batch_normalization (Batch  (None, 100352)            401408    \n",
      " Normalization)                                                  \n",
      "                                                                 \n",
      " dense (Dense)               (None, 256)               25690368  \n",
      "                                                                 \n",
      " dropout (Dropout)           (None, 256)               0         \n",
      "                                                                 \n",
      " batch_normalization_1 (Bat  (None, 256)               1024      \n",
      " chNormalization)                                                \n",
      "                                                                 \n",
      " dense_1 (Dense)             (None, 128)               32896     \n",
      "                                                                 \n",
      " dropout_1 (Dropout)         (None, 128)               0         \n",
      "                                                                 \n",
      " batch_normalization_2 (Bat  (None, 128)               512       \n",
      " chNormalization)                                                \n",
      "                                                                 \n",
      " dense_2 (Dense)             (None, 64)                8256      \n",
      "                                                                 \n",
      " dropout_2 (Dropout)         (None, 64)                0         \n",
      "                                                                 \n",
      " batch_normalization_3 (Bat  (None, 64)                256       \n",
      " chNormalization)                                                \n",
      "                                                                 \n",
      " dense_3 (Dense)             (None, 9)                 585       \n",
      "                                                                 \n",
      "=================================================================\n",
      "Total params: 49723017 (189.68 MB)\n",
      "Trainable params: 25933705 (98.93 MB)\n",
      "Non-trainable params: 23789312 (90.75 MB)\n",
      "_________________________________________________________________\n",
      "None\n"
     ]
    }
   ],
   "source": [
    "print(model_B.summary())"
   ]
  },
  {
   "cell_type": "code",
   "execution_count": 17,
   "metadata": {},
   "outputs": [
    {
     "name": "stdout",
     "output_type": "stream",
     "text": [
      "INFO:tensorflow:Assets written to: ../B/my_saved_model\\assets\n"
     ]
    },
    {
     "name": "stderr",
     "output_type": "stream",
     "text": [
      "INFO:tensorflow:Assets written to: ../B/my_saved_model\\assets\n"
     ]
    },
    {
     "name": "stdout",
     "output_type": "stream",
     "text": [
      "Saving model; Success\n"
     ]
    }
   ],
   "source": [
    "try:\n",
    "    model_B.save(filepath= '../B/my_saved_model')\n",
    "    print('Saving model; Success')\n",
    "except:\n",
    "    print('Saving model failed')"
   ]
  },
  {
   "cell_type": "code",
   "execution_count": 18,
   "metadata": {},
   "outputs": [],
   "source": [
    "from tensorflow.keras.models import load_model\n",
    "model_reload = load_model(filepath= '../B/my_saved_model')\n"
   ]
  },
  {
   "cell_type": "code",
   "execution_count": 19,
   "metadata": {},
   "outputs": [
    {
     "name": "stdout",
     "output_type": "stream",
     "text": [
      " 54/225 [======>.......................] - ETA: 1:28 - loss: 0.4221 - accuracy: 0.8802"
     ]
    },
    {
     "ename": "KeyboardInterrupt",
     "evalue": "",
     "output_type": "error",
     "traceback": [
      "\u001b[1;31m---------------------------------------------------------------------------\u001b[0m",
      "\u001b[1;31mKeyboardInterrupt\u001b[0m                         Traceback (most recent call last)",
      "Cell \u001b[1;32mIn[19], line 1\u001b[0m\n\u001b[1;32m----> 1\u001b[0m test_loss, test_accuracy \u001b[38;5;241m=\u001b[39m \u001b[43mmodel_reload\u001b[49m\u001b[38;5;241;43m.\u001b[39;49m\u001b[43mevaluate\u001b[49m\u001b[43m(\u001b[49m\u001b[43mdata_test_res\u001b[49m\u001b[43m,\u001b[49m\u001b[43m \u001b[49m\u001b[43mlabel_test_one_hot\u001b[49m\u001b[43m)\u001b[49m\n\u001b[0;32m      2\u001b[0m \u001b[38;5;28mprint\u001b[39m(\u001b[38;5;124mf\u001b[39m\u001b[38;5;124m\"\u001b[39m\u001b[38;5;124mtest accuracy is now \u001b[39m\u001b[38;5;132;01m{\u001b[39;00mtest_accuracy\u001b[38;5;132;01m}\u001b[39;00m\u001b[38;5;124m\"\u001b[39m)\n",
      "File \u001b[1;32mc:\\Users\\zhujy\\.conda\\envs\\ALMS\\lib\\site-packages\\keras\\src\\utils\\traceback_utils.py:65\u001b[0m, in \u001b[0;36mfilter_traceback.<locals>.error_handler\u001b[1;34m(*args, **kwargs)\u001b[0m\n\u001b[0;32m     63\u001b[0m filtered_tb \u001b[38;5;241m=\u001b[39m \u001b[38;5;28;01mNone\u001b[39;00m\n\u001b[0;32m     64\u001b[0m \u001b[38;5;28;01mtry\u001b[39;00m:\n\u001b[1;32m---> 65\u001b[0m     \u001b[38;5;28;01mreturn\u001b[39;00m fn(\u001b[38;5;241m*\u001b[39margs, \u001b[38;5;241m*\u001b[39m\u001b[38;5;241m*\u001b[39mkwargs)\n\u001b[0;32m     66\u001b[0m \u001b[38;5;28;01mexcept\u001b[39;00m \u001b[38;5;167;01mException\u001b[39;00m \u001b[38;5;28;01mas\u001b[39;00m e:\n\u001b[0;32m     67\u001b[0m     filtered_tb \u001b[38;5;241m=\u001b[39m _process_traceback_frames(e\u001b[38;5;241m.\u001b[39m__traceback__)\n",
      "File \u001b[1;32mc:\\Users\\zhujy\\.conda\\envs\\ALMS\\lib\\site-packages\\keras\\src\\engine\\training.py:2296\u001b[0m, in \u001b[0;36mModel.evaluate\u001b[1;34m(self, x, y, batch_size, verbose, sample_weight, steps, callbacks, max_queue_size, workers, use_multiprocessing, return_dict, **kwargs)\u001b[0m\n\u001b[0;32m   2292\u001b[0m             \u001b[38;5;28;01mwith\u001b[39;00m tf\u001b[38;5;241m.\u001b[39mprofiler\u001b[38;5;241m.\u001b[39mexperimental\u001b[38;5;241m.\u001b[39mTrace(\n\u001b[0;32m   2293\u001b[0m                 \u001b[38;5;124m\"\u001b[39m\u001b[38;5;124mtest\u001b[39m\u001b[38;5;124m\"\u001b[39m, step_num\u001b[38;5;241m=\u001b[39mstep, _r\u001b[38;5;241m=\u001b[39m\u001b[38;5;241m1\u001b[39m\n\u001b[0;32m   2294\u001b[0m             ):\n\u001b[0;32m   2295\u001b[0m                 callbacks\u001b[38;5;241m.\u001b[39mon_test_batch_begin(step)\n\u001b[1;32m-> 2296\u001b[0m                 logs \u001b[38;5;241m=\u001b[39m \u001b[43mtest_function_runner\u001b[49m\u001b[38;5;241;43m.\u001b[39;49m\u001b[43mrun_step\u001b[49m\u001b[43m(\u001b[49m\n\u001b[0;32m   2297\u001b[0m \u001b[43m                    \u001b[49m\u001b[43mdataset_or_iterator\u001b[49m\u001b[43m,\u001b[49m\n\u001b[0;32m   2298\u001b[0m \u001b[43m                    \u001b[49m\u001b[43mdata_handler\u001b[49m\u001b[43m,\u001b[49m\n\u001b[0;32m   2299\u001b[0m \u001b[43m                    \u001b[49m\u001b[43mstep\u001b[49m\u001b[43m,\u001b[49m\n\u001b[0;32m   2300\u001b[0m \u001b[43m                    \u001b[49m\u001b[38;5;28;43mself\u001b[39;49m\u001b[38;5;241;43m.\u001b[39;49m\u001b[43m_pss_evaluation_shards\u001b[49m\u001b[43m,\u001b[49m\n\u001b[0;32m   2301\u001b[0m \u001b[43m                \u001b[49m\u001b[43m)\u001b[49m\n\u001b[0;32m   2303\u001b[0m logs \u001b[38;5;241m=\u001b[39m tf_utils\u001b[38;5;241m.\u001b[39msync_to_numpy_or_python_type(logs)\n\u001b[0;32m   2304\u001b[0m \u001b[38;5;66;03m# Override with model metrics instead of last step logs\u001b[39;00m\n",
      "File \u001b[1;32mc:\\Users\\zhujy\\.conda\\envs\\ALMS\\lib\\site-packages\\keras\\src\\engine\\training.py:4108\u001b[0m, in \u001b[0;36m_TestFunction.run_step\u001b[1;34m(self, dataset_or_iterator, data_handler, step, unused_shards)\u001b[0m\n\u001b[0;32m   4107\u001b[0m \u001b[38;5;28;01mdef\u001b[39;00m \u001b[38;5;21mrun_step\u001b[39m(\u001b[38;5;28mself\u001b[39m, dataset_or_iterator, data_handler, step, unused_shards):\n\u001b[1;32m-> 4108\u001b[0m     tmp_logs \u001b[38;5;241m=\u001b[39m \u001b[38;5;28;43mself\u001b[39;49m\u001b[38;5;241;43m.\u001b[39;49m\u001b[43m_function\u001b[49m\u001b[43m(\u001b[49m\u001b[43mdataset_or_iterator\u001b[49m\u001b[43m)\u001b[49m\n\u001b[0;32m   4109\u001b[0m     \u001b[38;5;28;01mif\u001b[39;00m data_handler\u001b[38;5;241m.\u001b[39mshould_sync:\n\u001b[0;32m   4110\u001b[0m         context\u001b[38;5;241m.\u001b[39masync_wait()\n",
      "File \u001b[1;32mc:\\Users\\zhujy\\.conda\\envs\\ALMS\\lib\\site-packages\\tensorflow\\python\\util\\traceback_utils.py:150\u001b[0m, in \u001b[0;36mfilter_traceback.<locals>.error_handler\u001b[1;34m(*args, **kwargs)\u001b[0m\n\u001b[0;32m    148\u001b[0m filtered_tb \u001b[38;5;241m=\u001b[39m \u001b[38;5;28;01mNone\u001b[39;00m\n\u001b[0;32m    149\u001b[0m \u001b[38;5;28;01mtry\u001b[39;00m:\n\u001b[1;32m--> 150\u001b[0m   \u001b[38;5;28;01mreturn\u001b[39;00m fn(\u001b[38;5;241m*\u001b[39margs, \u001b[38;5;241m*\u001b[39m\u001b[38;5;241m*\u001b[39mkwargs)\n\u001b[0;32m    151\u001b[0m \u001b[38;5;28;01mexcept\u001b[39;00m \u001b[38;5;167;01mException\u001b[39;00m \u001b[38;5;28;01mas\u001b[39;00m e:\n\u001b[0;32m    152\u001b[0m   filtered_tb \u001b[38;5;241m=\u001b[39m _process_traceback_frames(e\u001b[38;5;241m.\u001b[39m__traceback__)\n",
      "File \u001b[1;32mc:\\Users\\zhujy\\.conda\\envs\\ALMS\\lib\\site-packages\\tensorflow\\python\\eager\\polymorphic_function\\polymorphic_function.py:832\u001b[0m, in \u001b[0;36mFunction.__call__\u001b[1;34m(self, *args, **kwds)\u001b[0m\n\u001b[0;32m    829\u001b[0m compiler \u001b[38;5;241m=\u001b[39m \u001b[38;5;124m\"\u001b[39m\u001b[38;5;124mxla\u001b[39m\u001b[38;5;124m\"\u001b[39m \u001b[38;5;28;01mif\u001b[39;00m \u001b[38;5;28mself\u001b[39m\u001b[38;5;241m.\u001b[39m_jit_compile \u001b[38;5;28;01melse\u001b[39;00m \u001b[38;5;124m\"\u001b[39m\u001b[38;5;124mnonXla\u001b[39m\u001b[38;5;124m\"\u001b[39m\n\u001b[0;32m    831\u001b[0m \u001b[38;5;28;01mwith\u001b[39;00m OptionalXlaContext(\u001b[38;5;28mself\u001b[39m\u001b[38;5;241m.\u001b[39m_jit_compile):\n\u001b[1;32m--> 832\u001b[0m   result \u001b[38;5;241m=\u001b[39m \u001b[38;5;28mself\u001b[39m\u001b[38;5;241m.\u001b[39m_call(\u001b[38;5;241m*\u001b[39margs, \u001b[38;5;241m*\u001b[39m\u001b[38;5;241m*\u001b[39mkwds)\n\u001b[0;32m    834\u001b[0m new_tracing_count \u001b[38;5;241m=\u001b[39m \u001b[38;5;28mself\u001b[39m\u001b[38;5;241m.\u001b[39mexperimental_get_tracing_count()\n\u001b[0;32m    835\u001b[0m without_tracing \u001b[38;5;241m=\u001b[39m (tracing_count \u001b[38;5;241m==\u001b[39m new_tracing_count)\n",
      "File \u001b[1;32mc:\\Users\\zhujy\\.conda\\envs\\ALMS\\lib\\site-packages\\tensorflow\\python\\eager\\polymorphic_function\\polymorphic_function.py:877\u001b[0m, in \u001b[0;36mFunction._call\u001b[1;34m(self, *args, **kwds)\u001b[0m\n\u001b[0;32m    874\u001b[0m \u001b[38;5;28mself\u001b[39m\u001b[38;5;241m.\u001b[39m_lock\u001b[38;5;241m.\u001b[39mrelease()\n\u001b[0;32m    875\u001b[0m \u001b[38;5;66;03m# In this case we have not created variables on the first call. So we can\u001b[39;00m\n\u001b[0;32m    876\u001b[0m \u001b[38;5;66;03m# run the first trace but we should fail if variables are created.\u001b[39;00m\n\u001b[1;32m--> 877\u001b[0m results \u001b[38;5;241m=\u001b[39m \u001b[43mtracing_compilation\u001b[49m\u001b[38;5;241;43m.\u001b[39;49m\u001b[43mcall_function\u001b[49m\u001b[43m(\u001b[49m\n\u001b[0;32m    878\u001b[0m \u001b[43m    \u001b[49m\u001b[43margs\u001b[49m\u001b[43m,\u001b[49m\u001b[43m \u001b[49m\u001b[43mkwds\u001b[49m\u001b[43m,\u001b[49m\u001b[43m \u001b[49m\u001b[38;5;28;43mself\u001b[39;49m\u001b[38;5;241;43m.\u001b[39;49m\u001b[43m_variable_creation_config\u001b[49m\n\u001b[0;32m    879\u001b[0m \u001b[43m\u001b[49m\u001b[43m)\u001b[49m\n\u001b[0;32m    880\u001b[0m \u001b[38;5;28;01mif\u001b[39;00m \u001b[38;5;28mself\u001b[39m\u001b[38;5;241m.\u001b[39m_created_variables:\n\u001b[0;32m    881\u001b[0m   \u001b[38;5;28;01mraise\u001b[39;00m \u001b[38;5;167;01mValueError\u001b[39;00m(\u001b[38;5;124m\"\u001b[39m\u001b[38;5;124mCreating variables on a non-first call to a function\u001b[39m\u001b[38;5;124m\"\u001b[39m\n\u001b[0;32m    882\u001b[0m                    \u001b[38;5;124m\"\u001b[39m\u001b[38;5;124m decorated with tf.function.\u001b[39m\u001b[38;5;124m\"\u001b[39m)\n",
      "File \u001b[1;32mc:\\Users\\zhujy\\.conda\\envs\\ALMS\\lib\\site-packages\\tensorflow\\python\\eager\\polymorphic_function\\tracing_compilation.py:139\u001b[0m, in \u001b[0;36mcall_function\u001b[1;34m(args, kwargs, tracing_options)\u001b[0m\n\u001b[0;32m    137\u001b[0m bound_args \u001b[38;5;241m=\u001b[39m function\u001b[38;5;241m.\u001b[39mfunction_type\u001b[38;5;241m.\u001b[39mbind(\u001b[38;5;241m*\u001b[39margs, \u001b[38;5;241m*\u001b[39m\u001b[38;5;241m*\u001b[39mkwargs)\n\u001b[0;32m    138\u001b[0m flat_inputs \u001b[38;5;241m=\u001b[39m function\u001b[38;5;241m.\u001b[39mfunction_type\u001b[38;5;241m.\u001b[39munpack_inputs(bound_args)\n\u001b[1;32m--> 139\u001b[0m \u001b[38;5;28;01mreturn\u001b[39;00m \u001b[43mfunction\u001b[49m\u001b[38;5;241;43m.\u001b[39;49m\u001b[43m_call_flat\u001b[49m\u001b[43m(\u001b[49m\u001b[43m  \u001b[49m\u001b[38;5;66;43;03m# pylint: disable=protected-access\u001b[39;49;00m\n\u001b[0;32m    140\u001b[0m \u001b[43m    \u001b[49m\u001b[43mflat_inputs\u001b[49m\u001b[43m,\u001b[49m\u001b[43m \u001b[49m\u001b[43mcaptured_inputs\u001b[49m\u001b[38;5;241;43m=\u001b[39;49m\u001b[43mfunction\u001b[49m\u001b[38;5;241;43m.\u001b[39;49m\u001b[43mcaptured_inputs\u001b[49m\n\u001b[0;32m    141\u001b[0m \u001b[43m\u001b[49m\u001b[43m)\u001b[49m\n",
      "File \u001b[1;32mc:\\Users\\zhujy\\.conda\\envs\\ALMS\\lib\\site-packages\\tensorflow\\python\\eager\\polymorphic_function\\concrete_function.py:1323\u001b[0m, in \u001b[0;36mConcreteFunction._call_flat\u001b[1;34m(self, tensor_inputs, captured_inputs)\u001b[0m\n\u001b[0;32m   1319\u001b[0m possible_gradient_type \u001b[38;5;241m=\u001b[39m gradients_util\u001b[38;5;241m.\u001b[39mPossibleTapeGradientTypes(args)\n\u001b[0;32m   1320\u001b[0m \u001b[38;5;28;01mif\u001b[39;00m (possible_gradient_type \u001b[38;5;241m==\u001b[39m gradients_util\u001b[38;5;241m.\u001b[39mPOSSIBLE_GRADIENT_TYPES_NONE\n\u001b[0;32m   1321\u001b[0m     \u001b[38;5;129;01mand\u001b[39;00m executing_eagerly):\n\u001b[0;32m   1322\u001b[0m   \u001b[38;5;66;03m# No tape is watching; skip to running the function.\u001b[39;00m\n\u001b[1;32m-> 1323\u001b[0m   \u001b[38;5;28;01mreturn\u001b[39;00m \u001b[38;5;28;43mself\u001b[39;49m\u001b[38;5;241;43m.\u001b[39;49m\u001b[43m_inference_function\u001b[49m\u001b[38;5;241;43m.\u001b[39;49m\u001b[43mcall_preflattened\u001b[49m\u001b[43m(\u001b[49m\u001b[43margs\u001b[49m\u001b[43m)\u001b[49m\n\u001b[0;32m   1324\u001b[0m forward_backward \u001b[38;5;241m=\u001b[39m \u001b[38;5;28mself\u001b[39m\u001b[38;5;241m.\u001b[39m_select_forward_and_backward_functions(\n\u001b[0;32m   1325\u001b[0m     args,\n\u001b[0;32m   1326\u001b[0m     possible_gradient_type,\n\u001b[0;32m   1327\u001b[0m     executing_eagerly)\n\u001b[0;32m   1328\u001b[0m forward_function, args_with_tangents \u001b[38;5;241m=\u001b[39m forward_backward\u001b[38;5;241m.\u001b[39mforward()\n",
      "File \u001b[1;32mc:\\Users\\zhujy\\.conda\\envs\\ALMS\\lib\\site-packages\\tensorflow\\python\\eager\\polymorphic_function\\atomic_function.py:216\u001b[0m, in \u001b[0;36mAtomicFunction.call_preflattened\u001b[1;34m(self, args)\u001b[0m\n\u001b[0;32m    214\u001b[0m \u001b[38;5;28;01mdef\u001b[39;00m \u001b[38;5;21mcall_preflattened\u001b[39m(\u001b[38;5;28mself\u001b[39m, args: Sequence[core\u001b[38;5;241m.\u001b[39mTensor]) \u001b[38;5;241m-\u001b[39m\u001b[38;5;241m>\u001b[39m Any:\n\u001b[0;32m    215\u001b[0m \u001b[38;5;250m  \u001b[39m\u001b[38;5;124;03m\"\"\"Calls with flattened tensor inputs and returns the structured output.\"\"\"\u001b[39;00m\n\u001b[1;32m--> 216\u001b[0m   flat_outputs \u001b[38;5;241m=\u001b[39m \u001b[38;5;28;43mself\u001b[39;49m\u001b[38;5;241;43m.\u001b[39;49m\u001b[43mcall_flat\u001b[49m\u001b[43m(\u001b[49m\u001b[38;5;241;43m*\u001b[39;49m\u001b[43margs\u001b[49m\u001b[43m)\u001b[49m\n\u001b[0;32m    217\u001b[0m   \u001b[38;5;28;01mreturn\u001b[39;00m \u001b[38;5;28mself\u001b[39m\u001b[38;5;241m.\u001b[39mfunction_type\u001b[38;5;241m.\u001b[39mpack_output(flat_outputs)\n",
      "File \u001b[1;32mc:\\Users\\zhujy\\.conda\\envs\\ALMS\\lib\\site-packages\\tensorflow\\python\\eager\\polymorphic_function\\atomic_function.py:251\u001b[0m, in \u001b[0;36mAtomicFunction.call_flat\u001b[1;34m(self, *args)\u001b[0m\n\u001b[0;32m    249\u001b[0m \u001b[38;5;28;01mwith\u001b[39;00m record\u001b[38;5;241m.\u001b[39mstop_recording():\n\u001b[0;32m    250\u001b[0m   \u001b[38;5;28;01mif\u001b[39;00m \u001b[38;5;28mself\u001b[39m\u001b[38;5;241m.\u001b[39m_bound_context\u001b[38;5;241m.\u001b[39mexecuting_eagerly():\n\u001b[1;32m--> 251\u001b[0m     outputs \u001b[38;5;241m=\u001b[39m \u001b[38;5;28;43mself\u001b[39;49m\u001b[38;5;241;43m.\u001b[39;49m\u001b[43m_bound_context\u001b[49m\u001b[38;5;241;43m.\u001b[39;49m\u001b[43mcall_function\u001b[49m\u001b[43m(\u001b[49m\n\u001b[0;32m    252\u001b[0m \u001b[43m        \u001b[49m\u001b[38;5;28;43mself\u001b[39;49m\u001b[38;5;241;43m.\u001b[39;49m\u001b[43mname\u001b[49m\u001b[43m,\u001b[49m\n\u001b[0;32m    253\u001b[0m \u001b[43m        \u001b[49m\u001b[38;5;28;43mlist\u001b[39;49m\u001b[43m(\u001b[49m\u001b[43margs\u001b[49m\u001b[43m)\u001b[49m\u001b[43m,\u001b[49m\n\u001b[0;32m    254\u001b[0m \u001b[43m        \u001b[49m\u001b[38;5;28;43mlen\u001b[39;49m\u001b[43m(\u001b[49m\u001b[38;5;28;43mself\u001b[39;49m\u001b[38;5;241;43m.\u001b[39;49m\u001b[43mfunction_type\u001b[49m\u001b[38;5;241;43m.\u001b[39;49m\u001b[43mflat_outputs\u001b[49m\u001b[43m)\u001b[49m\u001b[43m,\u001b[49m\n\u001b[0;32m    255\u001b[0m \u001b[43m    \u001b[49m\u001b[43m)\u001b[49m\n\u001b[0;32m    256\u001b[0m   \u001b[38;5;28;01melse\u001b[39;00m:\n\u001b[0;32m    257\u001b[0m     outputs \u001b[38;5;241m=\u001b[39m make_call_op_in_graph(\n\u001b[0;32m    258\u001b[0m         \u001b[38;5;28mself\u001b[39m,\n\u001b[0;32m    259\u001b[0m         \u001b[38;5;28mlist\u001b[39m(args),\n\u001b[0;32m    260\u001b[0m         \u001b[38;5;28mself\u001b[39m\u001b[38;5;241m.\u001b[39m_bound_context\u001b[38;5;241m.\u001b[39mfunction_call_options\u001b[38;5;241m.\u001b[39mas_attrs(),\n\u001b[0;32m    261\u001b[0m     )\n",
      "File \u001b[1;32mc:\\Users\\zhujy\\.conda\\envs\\ALMS\\lib\\site-packages\\tensorflow\\python\\eager\\context.py:1486\u001b[0m, in \u001b[0;36mContext.call_function\u001b[1;34m(self, name, tensor_inputs, num_outputs)\u001b[0m\n\u001b[0;32m   1484\u001b[0m cancellation_context \u001b[38;5;241m=\u001b[39m cancellation\u001b[38;5;241m.\u001b[39mcontext()\n\u001b[0;32m   1485\u001b[0m \u001b[38;5;28;01mif\u001b[39;00m cancellation_context \u001b[38;5;129;01mis\u001b[39;00m \u001b[38;5;28;01mNone\u001b[39;00m:\n\u001b[1;32m-> 1486\u001b[0m   outputs \u001b[38;5;241m=\u001b[39m \u001b[43mexecute\u001b[49m\u001b[38;5;241;43m.\u001b[39;49m\u001b[43mexecute\u001b[49m\u001b[43m(\u001b[49m\n\u001b[0;32m   1487\u001b[0m \u001b[43m      \u001b[49m\u001b[43mname\u001b[49m\u001b[38;5;241;43m.\u001b[39;49m\u001b[43mdecode\u001b[49m\u001b[43m(\u001b[49m\u001b[38;5;124;43m\"\u001b[39;49m\u001b[38;5;124;43mutf-8\u001b[39;49m\u001b[38;5;124;43m\"\u001b[39;49m\u001b[43m)\u001b[49m\u001b[43m,\u001b[49m\n\u001b[0;32m   1488\u001b[0m \u001b[43m      \u001b[49m\u001b[43mnum_outputs\u001b[49m\u001b[38;5;241;43m=\u001b[39;49m\u001b[43mnum_outputs\u001b[49m\u001b[43m,\u001b[49m\n\u001b[0;32m   1489\u001b[0m \u001b[43m      \u001b[49m\u001b[43minputs\u001b[49m\u001b[38;5;241;43m=\u001b[39;49m\u001b[43mtensor_inputs\u001b[49m\u001b[43m,\u001b[49m\n\u001b[0;32m   1490\u001b[0m \u001b[43m      \u001b[49m\u001b[43mattrs\u001b[49m\u001b[38;5;241;43m=\u001b[39;49m\u001b[43mattrs\u001b[49m\u001b[43m,\u001b[49m\n\u001b[0;32m   1491\u001b[0m \u001b[43m      \u001b[49m\u001b[43mctx\u001b[49m\u001b[38;5;241;43m=\u001b[39;49m\u001b[38;5;28;43mself\u001b[39;49m\u001b[43m,\u001b[49m\n\u001b[0;32m   1492\u001b[0m \u001b[43m  \u001b[49m\u001b[43m)\u001b[49m\n\u001b[0;32m   1493\u001b[0m \u001b[38;5;28;01melse\u001b[39;00m:\n\u001b[0;32m   1494\u001b[0m   outputs \u001b[38;5;241m=\u001b[39m execute\u001b[38;5;241m.\u001b[39mexecute_with_cancellation(\n\u001b[0;32m   1495\u001b[0m       name\u001b[38;5;241m.\u001b[39mdecode(\u001b[38;5;124m\"\u001b[39m\u001b[38;5;124mutf-8\u001b[39m\u001b[38;5;124m\"\u001b[39m),\n\u001b[0;32m   1496\u001b[0m       num_outputs\u001b[38;5;241m=\u001b[39mnum_outputs,\n\u001b[1;32m   (...)\u001b[0m\n\u001b[0;32m   1500\u001b[0m       cancellation_manager\u001b[38;5;241m=\u001b[39mcancellation_context,\n\u001b[0;32m   1501\u001b[0m   )\n",
      "File \u001b[1;32mc:\\Users\\zhujy\\.conda\\envs\\ALMS\\lib\\site-packages\\tensorflow\\python\\eager\\execute.py:53\u001b[0m, in \u001b[0;36mquick_execute\u001b[1;34m(op_name, num_outputs, inputs, attrs, ctx, name)\u001b[0m\n\u001b[0;32m     51\u001b[0m \u001b[38;5;28;01mtry\u001b[39;00m:\n\u001b[0;32m     52\u001b[0m   ctx\u001b[38;5;241m.\u001b[39mensure_initialized()\n\u001b[1;32m---> 53\u001b[0m   tensors \u001b[38;5;241m=\u001b[39m \u001b[43mpywrap_tfe\u001b[49m\u001b[38;5;241;43m.\u001b[39;49m\u001b[43mTFE_Py_Execute\u001b[49m\u001b[43m(\u001b[49m\u001b[43mctx\u001b[49m\u001b[38;5;241;43m.\u001b[39;49m\u001b[43m_handle\u001b[49m\u001b[43m,\u001b[49m\u001b[43m \u001b[49m\u001b[43mdevice_name\u001b[49m\u001b[43m,\u001b[49m\u001b[43m \u001b[49m\u001b[43mop_name\u001b[49m\u001b[43m,\u001b[49m\n\u001b[0;32m     54\u001b[0m \u001b[43m                                      \u001b[49m\u001b[43minputs\u001b[49m\u001b[43m,\u001b[49m\u001b[43m \u001b[49m\u001b[43mattrs\u001b[49m\u001b[43m,\u001b[49m\u001b[43m \u001b[49m\u001b[43mnum_outputs\u001b[49m\u001b[43m)\u001b[49m\n\u001b[0;32m     55\u001b[0m \u001b[38;5;28;01mexcept\u001b[39;00m core\u001b[38;5;241m.\u001b[39m_NotOkStatusException \u001b[38;5;28;01mas\u001b[39;00m e:\n\u001b[0;32m     56\u001b[0m   \u001b[38;5;28;01mif\u001b[39;00m name \u001b[38;5;129;01mis\u001b[39;00m \u001b[38;5;129;01mnot\u001b[39;00m \u001b[38;5;28;01mNone\u001b[39;00m:\n",
      "\u001b[1;31mKeyboardInterrupt\u001b[0m: "
     ]
    }
   ],
   "source": [
    "\n",
    "test_loss, test_accuracy = model_reload.evaluate(data_test_res, label_test_one_hot)\n",
    "print(f\"test accuracy is now {test_accuracy}\")"
   ]
  },
  {
   "cell_type": "code",
   "execution_count": null,
   "metadata": {},
   "outputs": [],
   "source": [
    "import pandas as pd\n",
    "\n",
    "# Distribution check\n",
    "\n",
    "df = pd.DataFrame(label_test)\n",
    "\n",
    "# Display the count of each category\n",
    "df.head()\n",
    "category_counts = df[0].value_counts()\n",
    "print(category_counts)"
   ]
  },
  {
   "cell_type": "code",
   "execution_count": 32,
   "metadata": {},
   "outputs": [],
   "source": [
    "# Another instantiation, with no resizing\n",
    "res_size2 = (28,28)\n",
    "input_t = Keras.Input(shape=(28, 28, 3))\n",
    "\n",
    "# Load ResNet-50 pre-trained on ImageNet\n",
    "resnet_model = Keras.applications.ResNet50(include_top=False,\n",
    "                                    weights=\"imagenet\",\n",
    "                                    input_tensor = input_t\n",
    "                                    )\n",
    "\n",
    "# Freeze the convolutional layers\n",
    "for layer in resnet_model.layers:\n",
    "    layer.trainable = False\n",
    "\n",
    "# Add classification head\n",
    "model_B2 = Keras.models.Sequential()\n",
    "#model_B.add(Keras.layers.Lambda(lambda image: tf.image.resize(image, res_size2))) \n",
    "model_B2.add(resnet_model)\n",
    "model_B2.add(Keras.layers.Flatten())\n",
    "model_B2.add(Keras.layers.BatchNormalization())\n",
    "model_B2.add(Keras.layers.Dense(256, activation='relu'))\n",
    "model_B2.add(Keras.layers.Dropout(0.5))\n",
    "model_B2.add(Keras.layers.BatchNormalization())\n",
    "model_B2.add(Keras.layers.Dense(128, activation='relu'))\n",
    "model_B2.add(Keras.layers.Dropout(0.5))\n",
    "model_B2.add(Keras.layers.BatchNormalization())\n",
    "model_B2.add(Keras.layers.Dense(64, activation='relu'))\n",
    "model_B2.add(Keras.layers.Dropout(0.5))\n",
    "model_B2.add(Keras.layers.BatchNormalization())\n",
    "model_B2.add(Keras.layers.Dense(9, activation='softmax'))\n",
    "\n",
    "# Compile the model\n",
    "#model_B.compile(optimizer=Keras.optimizers.RMSprop(learning_rate=2e-5), loss='categorical_crossentropy', metrics=['accuracy'])\n",
    "model_B2.compile(optimizer='Adam', loss='categorical_crossentropy', metrics=['accuracy'])\n",
    "\n",
    "\n",
    "# Define EarlyStopping callback, to perfent overfit\n",
    "early_stopping = EarlyStopping(monitor='val_accuracy', patience=5, restore_best_weights=True)"
   ]
  },
  {
   "cell_type": "code",
   "execution_count": 33,
   "metadata": {},
   "outputs": [
    {
     "name": "stdout",
     "output_type": "stream",
     "text": [
      "Epoch 1/200\n",
      "2813/2813 [==============================] - 136s 47ms/step - loss: 1.0787 - accuracy: 0.6264 - val_loss: 0.6421 - val_accuracy: 0.7780\n",
      "Epoch 2/200\n",
      "2813/2813 [==============================] - 131s 46ms/step - loss: 0.8227 - accuracy: 0.7201 - val_loss: 0.5888 - val_accuracy: 0.7943\n",
      "Epoch 3/200\n",
      "2813/2813 [==============================] - 131s 47ms/step - loss: 0.7764 - accuracy: 0.7382 - val_loss: 0.5751 - val_accuracy: 0.7979\n",
      "Epoch 4/200\n",
      "2813/2813 [==============================] - 133s 47ms/step - loss: 0.7445 - accuracy: 0.7485 - val_loss: 0.5490 - val_accuracy: 0.8058\n",
      "Epoch 5/200\n",
      "2813/2813 [==============================] - 130s 46ms/step - loss: 0.7217 - accuracy: 0.7568 - val_loss: 0.5471 - val_accuracy: 0.8110\n",
      "Epoch 6/200\n",
      "2813/2813 [==============================] - 130s 46ms/step - loss: 0.6940 - accuracy: 0.7620 - val_loss: 0.5352 - val_accuracy: 0.8094\n",
      "Epoch 7/200\n",
      "2813/2813 [==============================] - 129s 46ms/step - loss: 0.6881 - accuracy: 0.7671 - val_loss: 0.5383 - val_accuracy: 0.8145\n",
      "Epoch 8/200\n",
      "2813/2813 [==============================] - 130s 46ms/step - loss: 0.6814 - accuracy: 0.7689 - val_loss: 0.5336 - val_accuracy: 0.8166\n",
      "Epoch 9/200\n",
      "2813/2813 [==============================] - 132s 47ms/step - loss: 0.6699 - accuracy: 0.7712 - val_loss: 0.5345 - val_accuracy: 0.8119\n",
      "Epoch 10/200\n",
      "2813/2813 [==============================] - 132s 47ms/step - loss: 0.6596 - accuracy: 0.7763 - val_loss: 0.5229 - val_accuracy: 0.8155\n",
      "Epoch 11/200\n",
      "2813/2813 [==============================] - 132s 47ms/step - loss: 0.6562 - accuracy: 0.7795 - val_loss: 0.5345 - val_accuracy: 0.8154\n",
      "Epoch 12/200\n",
      "2813/2813 [==============================] - 132s 47ms/step - loss: 0.6451 - accuracy: 0.7796 - val_loss: 0.5331 - val_accuracy: 0.8214\n",
      "Epoch 13/200\n",
      "2813/2813 [==============================] - 131s 47ms/step - loss: 0.6390 - accuracy: 0.7836 - val_loss: 0.5267 - val_accuracy: 0.8164\n",
      "Epoch 14/200\n",
      "2813/2813 [==============================] - 130s 46ms/step - loss: 0.6371 - accuracy: 0.7841 - val_loss: 0.5293 - val_accuracy: 0.8187\n",
      "Epoch 15/200\n",
      "2813/2813 [==============================] - 128s 45ms/step - loss: 0.6306 - accuracy: 0.7868 - val_loss: 0.5352 - val_accuracy: 0.8165\n",
      "Epoch 16/200\n",
      "2813/2813 [==============================] - 129s 46ms/step - loss: 0.6272 - accuracy: 0.7879 - val_loss: 0.5227 - val_accuracy: 0.8206\n",
      "Epoch 17/200\n",
      "2813/2813 [==============================] - 129s 46ms/step - loss: 0.6237 - accuracy: 0.7894 - val_loss: 0.5393 - val_accuracy: 0.8191\n"
     ]
    }
   ],
   "source": [
    "result_B2 = model_B2.fit(\n",
    "    data_train_res, label_train_one_hot,\n",
    "    epochs= num_batch,\n",
    "    batch_size = 32,\n",
    "    verbose=1,\n",
    "    validation_data=(data_valid_res,label_valid_one_hot),\n",
    "    callbacks = [early_stopping]\n",
    ")"
   ]
  },
  {
   "cell_type": "code",
   "execution_count": 34,
   "metadata": {},
   "outputs": [
    {
     "name": "stdout",
     "output_type": "stream",
     "text": [
      "225/225 [==============================] - 8s 37ms/step - loss: 0.6814 - accuracy: 0.7798\n",
      "test accuracy is now 0.7798050045967102\n"
     ]
    }
   ],
   "source": [
    "# Evaluate the model on the test data\n",
    "test_loss, test_accuracy = model_B2.evaluate(data_test_res, label_test_one_hot)\n",
    "print(f\"test accuracy is now {test_accuracy}\")"
   ]
  }
 ],
 "metadata": {
  "kernelspec": {
   "display_name": "ALMS",
   "language": "python",
   "name": "python3"
  },
  "language_info": {
   "codemirror_mode": {
    "name": "ipython",
    "version": 3
   },
   "file_extension": ".py",
   "mimetype": "text/x-python",
   "name": "python",
   "nbconvert_exporter": "python",
   "pygments_lexer": "ipython3",
   "version": "3.10.13"
  }
 },
 "nbformat": 4,
 "nbformat_minor": 2
}
