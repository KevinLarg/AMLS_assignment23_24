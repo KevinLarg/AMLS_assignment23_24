{
 "cells": [
  {
   "cell_type": "code",
   "execution_count": 5,
   "metadata": {},
   "outputs": [
    {
     "name": "stdout",
     "output_type": "stream",
     "text": [
      "89996\n",
      "7180\n"
     ]
    }
   ],
   "source": [
    "import numpy as np\n",
    "data = np.load('../Dataset/pathmnist.npz')\n",
    "data_train = data['train_images']\n",
    "data_test = data['test_images']\n",
    "data_val = data['val_images']\n",
    "label_train = data['train_labels']\n",
    "label_test = data['test_labels']\n",
    "label_val = data['val_labels']\n",
    "print(len(data_train))\n",
    "print(len(data_test))"
   ]
  },
  {
   "cell_type": "code",
   "execution_count": 5,
   "metadata": {},
   "outputs": [],
   "source": [
    "from sklearn import datasets\n",
    "from sklearn.preprocessing import StandardScaler\n",
    "from sklearn import svm\n",
    "from sklearn.svm import SVC\n",
    "from sklearn.metrics import accuracy_score, classification_report\n",
    "import matplotlib.pyplot as plt\n",
    "\n",
    "\n",
    "# Flatten the images and normalize pixel values\n",
    "\n",
    "n_samples = len(data_train)\n",
    "data_temp = data_train.reshape((n_samples, -1))\n",
    "data_tr = StandardScaler().fit_transform(data_temp)\n",
    "\n",
    "n_samples = len(data_test)\n",
    "data_temp = data_test.reshape((n_samples, -1))\n",
    "data_te = StandardScaler().fit_transform(data_temp)\n",
    "n_samples = len(data_val)\n",
    "data_temp = data_val.reshape((n_samples, -1))\n",
    "data_va = StandardScaler().fit_transform(data_temp)"
   ]
  },
  {
   "cell_type": "code",
   "execution_count": 1,
   "metadata": {},
   "outputs": [],
   "source": [
    "# Tried kernals and regularization parameters\n",
    "kernels = {'rbf'}\n",
    "C = {1}\n",
    "# Initialize an empty dictionary to store results\n",
    "accuracy_results = {'kernel': [], 'C': [], 'accu': []}"
   ]
  },
  {
   "cell_type": "code",
   "execution_count": 6,
   "metadata": {},
   "outputs": [
    {
     "name": "stderr",
     "output_type": "stream",
     "text": [
      "c:\\Users\\zhujy\\.conda\\envs\\ALMS\\lib\\site-packages\\sklearn\\utils\\validation.py:1183: DataConversionWarning: A column-vector y was passed when a 1d array was expected. Please change the shape of y to (n_samples, ), for example using ravel().\n",
      "  y = column_or_1d(y, warn=True)\n"
     ]
    },
    {
     "name": "stdout",
     "output_type": "stream",
     "text": [
      "Report for SVM with rbf kernal and regularization parameter = 1:\n",
      "              precision    recall  f1-score   support\n",
      "\n",
      "           0       0.94      0.91      0.93      1338\n",
      "           1       0.89      1.00      0.94       847\n",
      "           2       0.36      0.65      0.46       339\n",
      "           3       0.58      0.29      0.38       634\n",
      "           4       0.94      0.66      0.77      1035\n",
      "           5       0.45      0.48      0.47       592\n",
      "           6       0.32      0.18      0.23       741\n",
      "           7       0.68      0.40      0.50       421\n",
      "           8       0.55      0.88      0.68      1233\n",
      "\n",
      "    accuracy                           0.67      7180\n",
      "   macro avg       0.63      0.61      0.60      7180\n",
      "weighted avg       0.69      0.67      0.66      7180\n",
      "\n"
     ]
    }
   ],
   "source": [
    "# trying different svm kernals with different regularization parameters\n",
    "for i in kernels:\n",
    "    for c in C:\n",
    "        # Create an SVM classifier\n",
    "        clf_svm = SVC(kernel= i , C = c)\n",
    "\n",
    "        # Train the classifier\n",
    "        clf_svm.fit(data_tr, label_train)\n",
    "\n",
    "        # Make predictions on the test set\n",
    "        y_pred = clf_svm.predict(data_te)\n",
    "\n",
    "        # Evaluate the performance\n",
    "        accu_svm = accuracy_score(label_test, y_pred)\n",
    "\n",
    "        # storing performance values for plotting\n",
    "\n",
    "        accuracy_results['kernel'].append(i)\n",
    "        accuracy_results['C'].append(c)\n",
    "        accuracy_results['accu'].append(accu_svm)\n",
    "\n",
    "        # Display classification report\n",
    "        print(f'Report for SVM with {i} kernal and regularization parameter = {c}:')\n",
    "        print(classification_report(label_test, y_pred))"
   ]
  },
  {
   "cell_type": "code",
   "execution_count": 49,
   "metadata": {},
   "outputs": [],
   "source": [
    "# Apply random sample and mini-batch for training, as the training data set is massive\n",
    "\n",
    "# Parameters\n",
    "num_batch = 200\n",
    "batch_size = 10000\n",
    "batch_index = []\n",
    "\n",
    "import warnings\n",
    "\n",
    "# To ignore all warnings\n",
    "warnings.filterwarnings(\"ignore\")"
   ]
  },
  {
   "cell_type": "code",
   "execution_count": 50,
   "metadata": {},
   "outputs": [],
   "source": [
    "# Perform mini-batch updates\n",
    "if len(batch_index) != 0:\n",
    "    print(f'{len(batch_index)} batches already exists, please check')\n",
    "else:\n",
    "    for i in range(num_batch):\n",
    "        # Randomly sample a mini-batch from the training set\n",
    "        batch_index.append(np.random.choice(len(data_tr), size=batch_size, replace=False))\n"
   ]
  },
  {
   "cell_type": "code",
   "execution_count": 51,
   "metadata": {},
   "outputs": [
    {
     "name": "stdout",
     "output_type": "stream",
     "text": [
      "Random Forest Accuracy: 0.5811977715877438\n"
     ]
    }
   ],
   "source": [
    "from sklearn.ensemble import RandomForestClassifier\n",
    "\n",
    "# Create an empty Random Forest classifier\n",
    "rf_classifier = RandomForestClassifier(n_estimators = 100, random_state=42, warm_start= True)\n",
    "\n",
    "# Perform mini-batch updates\n",
    "for i in range(num_batch):\n",
    "    # use the randomly sampled indices for mini-batches\n",
    "    data_batch = [data_tr[j] for j in batch_index[i]]\n",
    "    label_batch = [label_train[j] for j in batch_index[i]]\n",
    "\n",
    "    # Train the Random Forest classifier on the current mini-batch\n",
    "    rf_classifier.fit(data_batch, label_batch)\n",
    "\n",
    "# Make predictions on the test set\n",
    "rf_predictions = rf_classifier.predict(data_te)\n",
    "\n",
    "# Evaluate accuracy on the test set\n",
    "accuracy = accuracy_score(label_test, rf_predictions)\n",
    "print(f\"Random Forest Accuracy: {accuracy}\")\n"
   ]
  },
  {
   "cell_type": "code",
   "execution_count": 33,
   "metadata": {},
   "outputs": [
    {
     "name": "stderr",
     "output_type": "stream",
     "text": [
      "c:\\Users\\zhujy\\.conda\\envs\\ALMS\\lib\\site-packages\\sklearn\\base.py:1152: DataConversionWarning: A column-vector y was passed when a 1d array was expected. Please change the shape of y to (n_samples,), for example using ravel().\n",
      "  return fit_method(estimator, *args, **kwargs)\n"
     ]
    },
    {
     "name": "stdout",
     "output_type": "stream",
     "text": [
      "Random Forest Accuracy: 0.5139275766016713\n"
     ]
    }
   ],
   "source": [
    "from sklearn.ensemble import RandomForestClassifier\n",
    "\n",
    "# Create an empty Random Forest classifier\n",
    "rf_classifier_2 = RandomForestClassifier(n_estimators = 100, random_state=42)\n",
    "rf_classifier_2.fit(data_tr, label_train)\n"
   ]
  },
  {
   "cell_type": "code",
   "execution_count": 34,
   "metadata": {},
   "outputs": [
    {
     "name": "stdout",
     "output_type": "stream",
     "text": [
      "Random Forest Accuracy: 0.6497214484679665\n"
     ]
    }
   ],
   "source": [
    "\n",
    "# Make predictions on the test set\n",
    "rf_predictions2 = rf_classifier_2.predict(data_te)\n",
    "\n",
    "# Evaluate accuracy on the test set\n",
    "accuracy = accuracy_score(label_test, rf_predictions2)\n",
    "print(f\"Random Forest Accuracy: {accuracy}\")\n"
   ]
  },
  {
   "cell_type": "code",
   "execution_count": 9,
   "metadata": {},
   "outputs": [],
   "source": [
    "from tensorflow.keras.utils import to_categorical\n",
    "\n",
    "# Convert integer labels to one-hot encoded format\n",
    "label_train_one_hot = to_categorical(label_train, num_classes=9)\n",
    "label_valid_one_hot = to_categorical(label_val, num_classes=9)\n",
    "\n"
   ]
  },
  {
   "cell_type": "code",
   "execution_count": 11,
   "metadata": {},
   "outputs": [
    {
     "name": "stderr",
     "output_type": "stream",
     "text": [
      "WARNING:absl:`lr` is deprecated in Keras optimizer, please use `learning_rate` or use the legacy optimizer, e.g.,tf.keras.optimizers.legacy.Adam.\n"
     ]
    }
   ],
   "source": [
    "import tensorflow as tf\n",
    "from tensorflow.keras.applications import ResNet50\n",
    "from tensorflow.keras.layers import Dense, GlobalAveragePooling2D\n",
    "from tensorflow.keras.models import Model\n",
    "from tensorflow.keras.optimizers import Adam\n",
    "from tensorflow.keras.preprocessing.image import ImageDataGenerator\n",
    "\n",
    "# # Data augmentation for the training set\n",
    "# train_datagen = ImageDataGenerator(\n",
    "#     rescale=1./255,\n",
    "#     shear_range=0.2,\n",
    "#     zoom_range=0.2,\n",
    "#     horizontal_flip=True\n",
    "# )\n",
    "\n",
    "# # No augmentation for the validation set\n",
    "# valid_datagen = ImageDataGenerator(rescale=1./255)\n",
    "\n",
    "# Pad all images to the maximum dimensions\n",
    "data_train_padded = np.array([np.pad(img, ((2, 2), (2, 2), (0, 0)), mode='constant') for img in data_train])\n",
    "data_valid_padded = np.array([np.pad(img, ((2, 2), (2, 2), (0, 0)), mode='constant') for img in data_val])\n",
    "\n",
    "\n",
    "# Load ResNet-50 pre-trained on ImageNet\n",
    "resnet_model = ResNet50(weights='imagenet', include_top=False, input_shape=(32, 32, 3))\n",
    "\n",
    "# Freeze the convolutional layers\n",
    "for layer in resnet_model.layers:\n",
    "    layer.trainable = False\n",
    "\n",
    "# Add classification head\n",
    "temp = resnet_model.output\n",
    "temp = GlobalAveragePooling2D()(temp)\n",
    "temp = Dense(256, activation='relu')(temp)\n",
    "predictions = Dense(9, activation='softmax')(temp)  # Adjust 'num_classes' based on your problem\n",
    "\n",
    "# Create the full model\n",
    "model_B = Model(inputs=resnet_model.input, outputs=predictions)\n",
    "\n",
    "# Compile the model\n",
    "model_B.compile(optimizer=Adam(lr=0.001), loss='categorical_crossentropy', metrics=['accuracy'])\n"
   ]
  },
  {
   "cell_type": "code",
   "execution_count": 13,
   "metadata": {},
   "outputs": [
    {
     "name": "stdout",
     "output_type": "stream",
     "text": [
      "Epoch 1/10\n",
      "2813/2813 [==============================] - 111s 39ms/step - loss: 0.3697 - accuracy: 0.8616 - val_loss: 0.6062 - val_accuracy: 0.8119\n",
      "Epoch 2/10\n",
      "2813/2813 [==============================] - 114s 40ms/step - loss: 0.3625 - accuracy: 0.8657 - val_loss: 0.6207 - val_accuracy: 0.8112\n",
      "Epoch 3/10\n",
      "2813/2813 [==============================] - 114s 40ms/step - loss: 0.3573 - accuracy: 0.8657 - val_loss: 0.6204 - val_accuracy: 0.8045\n",
      "Epoch 4/10\n",
      "2813/2813 [==============================] - 113s 40ms/step - loss: 0.3531 - accuracy: 0.8675 - val_loss: 0.6366 - val_accuracy: 0.8070\n",
      "Epoch 5/10\n",
      "2813/2813 [==============================] - 113s 40ms/step - loss: 0.3474 - accuracy: 0.8696 - val_loss: 0.6117 - val_accuracy: 0.8101\n",
      "Epoch 6/10\n",
      "2813/2813 [==============================] - 113s 40ms/step - loss: 0.3444 - accuracy: 0.8712 - val_loss: 0.6082 - val_accuracy: 0.8140\n",
      "Epoch 7/10\n",
      "2813/2813 [==============================] - 113s 40ms/step - loss: 0.3394 - accuracy: 0.8733 - val_loss: 0.6596 - val_accuracy: 0.8049\n",
      "Epoch 8/10\n",
      "2813/2813 [==============================] - 113s 40ms/step - loss: 0.3365 - accuracy: 0.8738 - val_loss: 0.6230 - val_accuracy: 0.8113\n",
      "Epoch 9/10\n",
      "2813/2813 [==============================] - 113s 40ms/step - loss: 0.3305 - accuracy: 0.8756 - val_loss: 0.6395 - val_accuracy: 0.8162\n",
      "Epoch 10/10\n",
      "2813/2813 [==============================] - 114s 40ms/step - loss: 0.3263 - accuracy: 0.8767 - val_loss: 0.6687 - val_accuracy: 0.7994\n"
     ]
    },
    {
     "data": {
      "text/plain": [
       "<keras.src.callbacks.History at 0x2c50304b460>"
      ]
     },
     "execution_count": 13,
     "metadata": {},
     "output_type": "execute_result"
    }
   ],
   "source": [
    "\n",
    "# Train the model\n",
    "model_B.fit(\n",
    "    data_train_padded, label_train_one_hot,\n",
    "    epochs= 10,  # Adjust the number of epochs\n",
    "    validation_data=(data_valid_padded,label_valid_one_hot)\n",
    ")"
   ]
  }
 ],
 "metadata": {
  "kernelspec": {
   "display_name": "ALMS",
   "language": "python",
   "name": "python3"
  },
  "language_info": {
   "codemirror_mode": {
    "name": "ipython",
    "version": 3
   },
   "file_extension": ".py",
   "mimetype": "text/x-python",
   "name": "python",
   "nbconvert_exporter": "python",
   "pygments_lexer": "ipython3",
   "version": "3.10.13"
  }
 },
 "nbformat": 4,
 "nbformat_minor": 2
}
